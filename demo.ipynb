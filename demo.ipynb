{
 "cells": [
  {
   "cell_type": "code",
   "execution_count": null,
   "metadata": {},
   "outputs": [],
   "source": [
    "import matplotlib.pyplot as plt\n",
    "\n",
    "import LS_MCPP\n",
    "\n",
    "from MIP_MCPP.instance import Instance\n",
    "\n",
    "from LS_MCPP.solution import *\n",
    "from LS_MCPP.local_search import *\n",
    "from conflict_solver.high_level_planner import PBS\n",
    "from conflict_solver.low_level_planner import *\n",
    "from benchmark.simulation import simulate\n",
    "from benchmark.instance import MCPP\n",
    "\n",
    "from exp_runner import *"
   ]
  },
  {
   "cell_type": "markdown",
   "metadata": {},
   "source": [
    "### Import the floor_small MCPP instance"
   ]
  },
  {
   "cell_type": "code",
   "execution_count": null,
   "metadata": {},
   "outputs": [],
   "source": [
    "name = \"floor_small\"\n",
    "mcpp = MCPP.read_instance(os.path.join(\"benchmark\", \"instances\", f\"{name}.mcpp\"))\n",
    "\n",
    "rmv_ratio, seed = 0.1, 2\n",
    "mutant = list(mcpp.randomized_mutants([rmv_ratio], [seed]))[0]\n",
    "\n",
    "fig, ax = plt.subplots()\n",
    "mutant.draw(ax)"
   ]
  },
  {
   "cell_type": "markdown",
   "metadata": {},
   "source": [
    "### Run LS-MCPP with MFC as initial solution"
   ]
  },
  {
   "cell_type": "code",
   "execution_count": null,
   "metadata": {},
   "outputs": [],
   "source": [
    "init_sol = MFC_sol(mutant)\n",
    "ls_mcpp_planner = LocalSearchMCPP(mutant, init_sol, PrioType.CompositeHeur, PoolType.VertexEdgewise)\n",
    "M = 2000\n",
    "sol_opt, rt = ls_mcpp_planner.run(\n",
    "    M=M,\n",
    "    S=int(M // 20),\n",
    "    alpha=np.exp(np.log(0.2) / M),\n",
    "    gamma=0.01,\n",
    "    sample_type=SampleType.RouletteWheel\n",
    ")\n",
    "\n",
    "colors = [\"r\", \"b\", \"k\", \"c\"]\n",
    "fig, axs = plt.subplots(1, 2)\n",
    "for i, r in enumerate(mutant.R):\n",
    "    r = mutant.legacy_vertex(r)\n",
    "    axs[0].plot(r[0], r[1], \"*k\", ms=8, mfc=colors[i])\n",
    "\n",
    "for v in mutant.static_obstacles:\n",
    "    px, py = (v[0] - 0.5) / 2, (v[1] - 0.5) / 2\n",
    "    axs[0].plot(px, py, \"ks\", ms=8)\n",
    "\n",
    "for i in range(mutant.k):\n",
    "    pi = init_sol.Pi[i]\n",
    "    for j in range(len(pi)-1):\n",
    "        axs[0].plot([pi[j][0], pi[j+1][0]], [pi[j][1], pi[j+1][1]], color=f'{colors[i]}', linewidth=4, alpha=0.6)\n",
    "axs[0].axis(\"equal\")\n",
    "\n",
    "for i, r in enumerate(mutant.R):\n",
    "    r = mutant.legacy_vertex(r)\n",
    "    axs[1].plot(r[0], r[1], \"*k\", ms=8, mfc=colors[i])\n",
    "\n",
    "for v in mutant.static_obstacles:\n",
    "    px, py = (v[0] - 0.5) / 2, (v[1] - 0.5) / 2\n",
    "    axs[1].plot(px, py, \"ks\", ms=8)\n",
    "\n",
    "for i in range(mutant.k):\n",
    "    pi = sol_opt.Pi[i]\n",
    "    for j in range(len(pi)-1):\n",
    "        axs[1].plot([pi[j][0], pi[j+1][0]], [pi[j][1], pi[j+1][1]], color=f'{colors[i]}', linewidth=4, alpha=0.6)\n",
    "axs[1].axis(\"equal\")"
   ]
  },
  {
   "cell_type": "markdown",
   "metadata": {},
   "source": [
    "### Run decoflicting using PBS + adaptive low-level planner"
   ]
  },
  {
   "cell_type": "code",
   "execution_count": null,
   "metadata": {},
   "outputs": [],
   "source": [
    "plans = []\n",
    "for i in mutant.I:\n",
    "    P = Plan.construct_from_path(sol_opt.Pi[i], mutant)\n",
    "    plans.append(\n",
    "        Plan([State(mutant.legacy_vertex(X.pos), X.time, X.heading) for X in P.states]))\n",
    "\n",
    "# record the simulation of the undeconflicted LS-MCPP solution\n",
    "simulate(mutant, plans, 3, 0.1, \"LS-MCPP\")  # stored in data/videos\n",
    "\n",
    "pp = PBS(mutant, AdaptiveApproach(mutant, HeurType.TrueDist))\n",
    "plans = pp.run(sol_opt, verbose=True)\n",
    "\n",
    "# record the simulation of the conflicted LS-MCPP solution\n",
    "simulate(mutant, plans, 3, 0.1, \"adaptive\") # stored in data/videos\n"
   ]
  }
 ],
 "metadata": {
  "kernelspec": {
   "display_name": "opt",
   "language": "python",
   "name": "python3"
  },
  "language_info": {
   "codemirror_mode": {
    "name": "ipython",
    "version": 3
   },
   "file_extension": ".py",
   "mimetype": "text/x-python",
   "name": "python",
   "nbconvert_exporter": "python",
   "pygments_lexer": "ipython3",
   "version": "3.12.2"
  }
 },
 "nbformat": 4,
 "nbformat_minor": 2
}
